{
 "cells": [
  {
   "cell_type": "code",
   "execution_count": 4,
   "metadata": {},
   "outputs": [
    {
     "name": "stdout",
     "output_type": "stream",
     "text": [
      "Requirement already satisfied: quandl in c:\\users\\yashraj nigam\\anaconda3\\lib\\site-packages (3.5.0)\n",
      "Requirement already satisfied: inflection>=0.3.1 in c:\\users\\yashraj nigam\\anaconda3\\lib\\site-packages (from quandl) (0.3.1)\n",
      "Requirement already satisfied: python-dateutil in c:\\users\\yashraj nigam\\anaconda3\\lib\\site-packages (from quandl) (2.8.0)\n",
      "Requirement already satisfied: requests>=2.7.0 in c:\\users\\yashraj nigam\\anaconda3\\lib\\site-packages (from quandl) (2.21.0)\n",
      "Requirement already satisfied: numpy>=1.8 in c:\\users\\yashraj nigam\\anaconda3\\lib\\site-packages (from quandl) (1.16.2)\n",
      "Requirement already satisfied: six in c:\\users\\yashraj nigam\\anaconda3\\lib\\site-packages (from quandl) (1.12.0)\n",
      "Requirement already satisfied: more-itertools in c:\\users\\yashraj nigam\\anaconda3\\lib\\site-packages (from quandl) (6.0.0)\n",
      "Requirement already satisfied: pandas>=0.14 in c:\\users\\yashraj nigam\\anaconda3\\lib\\site-packages (from quandl) (0.24.2)\n",
      "Requirement already satisfied: urllib3<1.25,>=1.21.1 in c:\\users\\yashraj nigam\\anaconda3\\lib\\site-packages (from requests>=2.7.0->quandl) (1.24.1)\n",
      "Requirement already satisfied: certifi>=2017.4.17 in c:\\users\\yashraj nigam\\anaconda3\\lib\\site-packages (from requests>=2.7.0->quandl) (2019.3.9)\n",
      "Requirement already satisfied: idna<2.9,>=2.5 in c:\\users\\yashraj nigam\\anaconda3\\lib\\site-packages (from requests>=2.7.0->quandl) (2.8)\n",
      "Requirement already satisfied: chardet<3.1.0,>=3.0.2 in c:\\users\\yashraj nigam\\anaconda3\\lib\\site-packages (from requests>=2.7.0->quandl) (3.0.4)\n",
      "Requirement already satisfied: pytz>=2011k in c:\\users\\yashraj nigam\\anaconda3\\lib\\site-packages (from pandas>=0.14->quandl) (2018.9)\n"
     ]
    }
   ],
   "source": [
    "!pip install quandl"
   ]
  },
  {
   "cell_type": "code",
   "execution_count": 7,
   "metadata": {},
   "outputs": [],
   "source": [
    "#Importing necessary pqckages\n",
    "import quandl\n",
    "import numpy as np\n",
    "from sklearn.linear_model import LinearRegression\n",
    "from sklearn.svm import SVR\n",
    "from sklearn.model_selection import train_test_split"
   ]
  },
  {
   "cell_type": "code",
   "execution_count": 8,
   "metadata": {},
   "outputs": [],
   "source": [
    "#Get the stock data\n",
    "df= quandl.get(\"NSE/TCS\")"
   ]
  },
  {
   "cell_type": "code",
   "execution_count": 10,
   "metadata": {},
   "outputs": [
    {
     "name": "stdout",
     "output_type": "stream",
     "text": [
      "             Close\n",
      "Date              \n",
      "2004-08-25  987.95\n",
      "2004-08-26  979.00\n",
      "2004-08-27  962.65\n",
      "2004-08-30  986.75\n",
      "2004-08-31  988.10\n"
     ]
    }
   ],
   "source": [
    "# Get the Close Price\n",
    "df = df[['Close']]\n",
    "#Take a look at the new data\n",
    "print(df.head())"
   ]
  },
  {
   "cell_type": "code",
   "execution_count": 11,
   "metadata": {},
   "outputs": [
    {
     "name": "stdout",
     "output_type": "stream",
     "text": [
      "              Close  Prediction\n",
      "Date                           \n",
      "2018-12-31  1893.05         NaN\n",
      "2019-01-01  1902.80         NaN\n",
      "2019-01-02  1923.30         NaN\n",
      "2019-01-03  1899.95         NaN\n",
      "2019-01-04  1876.85         NaN\n"
     ]
    }
   ],
   "source": [
    "# A variable for predicting 'n' days out into the future\n",
    "forecast_out = 30 #'n=30' days\n",
    "#Create another column (the target or dependent variable) shifted 'n' units up\n",
    "df['Prediction'] = df[['Close']].shift(-forecast_out)\n",
    "#print the new data set\n",
    "print(df.tail())"
   ]
  },
  {
   "cell_type": "code",
   "execution_count": 12,
   "metadata": {},
   "outputs": [
    {
     "name": "stdout",
     "output_type": "stream",
     "text": [
      "[[ 987.95]\n",
      " [ 979.  ]\n",
      " [ 962.65]\n",
      " ...\n",
      " [1902.45]\n",
      " [1878.25]\n",
      " [1812.  ]]\n"
     ]
    }
   ],
   "source": [
    "X = np.array(df.drop(['Prediction'],1))\n",
    "\n",
    "#Remove the last 'n' rows\n",
    "X = X[:-forecast_out]\n",
    "print(X)"
   ]
  },
  {
   "cell_type": "code",
   "execution_count": 13,
   "metadata": {},
   "outputs": [
    {
     "name": "stdout",
     "output_type": "stream",
     "text": [
      "[1081.6  1097.1  1098.05 ... 1923.3  1899.95 1876.85]\n"
     ]
    }
   ],
   "source": [
    "### Create the dependent data set (y)  #####\n",
    "# Convert the dataframe to a numpy array (All of the values including the NaN's)\n",
    "y = np.array(df['Prediction'])\n",
    "# Get all of the y values except the last 'n' rows\n",
    "y = y[:-forecast_out]\n",
    "print(y)"
   ]
  },
  {
   "cell_type": "code",
   "execution_count": 14,
   "metadata": {},
   "outputs": [],
   "source": [
    "# Split the data into 80% training and 20% testing\n",
    "x_train, x_test, y_train, y_test = train_test_split(X, y, test_size=0.2)"
   ]
  },
  {
   "cell_type": "code",
   "execution_count": 15,
   "metadata": {},
   "outputs": [
    {
     "data": {
      "text/plain": [
       "SVR(C=1000.0, cache_size=200, coef0=0.0, degree=3, epsilon=0.1, gamma=0.1,\n",
       "  kernel='rbf', max_iter=-1, shrinking=True, tol=0.001, verbose=False)"
      ]
     },
     "execution_count": 15,
     "metadata": {},
     "output_type": "execute_result"
    }
   ],
   "source": [
    "# Create and train the Support Vector Machine (Regressor)\n",
    "svr_rbf = SVR(kernel='rbf', C=1e3, gamma=0.1)\n",
    "svr_rbf.fit(x_train, y_train)"
   ]
  },
  {
   "cell_type": "code",
   "execution_count": 16,
   "metadata": {},
   "outputs": [
    {
     "name": "stdout",
     "output_type": "stream",
     "text": [
      "svm confidence:  0.8829621111489354\n"
     ]
    }
   ],
   "source": [
    "# Testing Model: Score returns the coefficient of determination R^2 of the prediction. \n",
    "# The best possible score is 1.0\n",
    "svm_confidence = svr_rbf.score(x_test, y_test)\n",
    "print(\"svm confidence: \", svm_confidence)"
   ]
  },
  {
   "cell_type": "code",
   "execution_count": 17,
   "metadata": {},
   "outputs": [
    {
     "data": {
      "text/plain": [
       "LinearRegression(copy_X=True, fit_intercept=True, n_jobs=None,\n",
       "         normalize=False)"
      ]
     },
     "execution_count": 17,
     "metadata": {},
     "output_type": "execute_result"
    }
   ],
   "source": [
    "# Create and train the Linear Regression  Model\n",
    "lr = LinearRegression()\n",
    "# Train the model\n",
    "lr.fit(x_train, y_train)"
   ]
  },
  {
   "cell_type": "code",
   "execution_count": 18,
   "metadata": {},
   "outputs": [
    {
     "name": "stdout",
     "output_type": "stream",
     "text": [
      "lr confidence:  0.9196842054564535\n"
     ]
    }
   ],
   "source": [
    "# Testing Model: Score returns the coefficient of determination R^2 of the prediction. \n",
    "# The best possible score is 1.0\n",
    "lr_confidence = lr.score(x_test, y_test)\n",
    "print(\"lr confidence: \", lr_confidence)"
   ]
  },
  {
   "cell_type": "code",
   "execution_count": 20,
   "metadata": {},
   "outputs": [
    {
     "name": "stdout",
     "output_type": "stream",
     "text": [
      "[[1812.55]\n",
      " [1846.1 ]\n",
      " [1890.25]\n",
      " [1983.9 ]\n",
      " [1960.55]\n",
      " [1968.25]\n",
      " [1982.4 ]\n",
      " [2010.85]\n",
      " [2006.75]\n",
      " [1992.7 ]\n",
      " [1995.2 ]\n",
      " [1975.8 ]\n",
      " [2000.  ]\n",
      " [2016.8 ]\n",
      " [1982.6 ]\n",
      " [1989.75]\n",
      " [1994.3 ]\n",
      " [1987.85]\n",
      " [1968.45]\n",
      " [1954.05]\n",
      " [1895.8 ]\n",
      " [1918.5 ]\n",
      " [1889.2 ]\n",
      " [1908.95]\n",
      " [1896.05]\n",
      " [1893.05]\n",
      " [1902.8 ]\n",
      " [1923.3 ]\n",
      " [1899.95]\n",
      " [1876.85]]\n"
     ]
    }
   ],
   "source": [
    "# Set x_forecast equal to the last 30 rows of the original data set from Close column\n",
    "x_forecast = np.array(df.drop(['Prediction'],1))[-forecast_out:]\n",
    "print(x_forecast)"
   ]
  },
  {
   "cell_type": "code",
   "execution_count": 21,
   "metadata": {},
   "outputs": [
    {
     "name": "stdout",
     "output_type": "stream",
     "text": [
      "[1809.94474915 1841.78716877 1883.69008461 1972.57361955 1950.41205478\n",
      " 1957.72015108 1971.14996442 1998.15195662 1994.26063261 1980.92572961\n",
      " 1983.29848815 1964.88588188 1987.85418455 2003.79912195 1971.33978511\n",
      " 1978.12587453 1982.44429508 1976.32257804 1957.90997177 1944.24288257\n",
      " 1888.95760857 1910.50225612 1882.69352602 1901.43831849 1889.19488442\n",
      " 1886.34757417 1895.60133248 1915.05795252 1892.89638774 1870.97209883]\n",
      "[1850.22727169 1956.05025695 1773.19491867 2256.06872536 1964.05981289\n",
      " 2022.02277207 2160.76695457 1943.09434852 2089.14113104 2191.94775133\n",
      " 1995.2192054  2048.79747787 2116.32931489 2265.94635827 2175.97680668\n",
      " 2063.27976481 2098.1579481  2144.22545032 2012.69144034 2077.44610296\n",
      " 2058.40894082 1970.57644862 1833.20286136 2013.93792459 2071.21605819\n",
      " 1840.08414658 1974.69475154 1712.70337282 1630.18406022 1851.13333269]\n"
     ]
    }
   ],
   "source": [
    "# Print linear regression model predictions for the next 'n' days\n",
    "lr_prediction = lr.predict(x_forecast)\n",
    "print(lr_prediction)\n",
    "\n",
    "# Print support vector regressor model predictions for the next 'n' days\n",
    "svm_prediction = svr_rbf.predict(x_forecast)\n",
    "print(svm_prediction)"
   ]
  }
 ],
 "metadata": {
  "kernelspec": {
   "display_name": "Python 3",
   "language": "python",
   "name": "python3"
  },
  "language_info": {
   "codemirror_mode": {
    "name": "ipython",
    "version": 3
   },
   "file_extension": ".py",
   "mimetype": "text/x-python",
   "name": "python",
   "nbconvert_exporter": "python",
   "pygments_lexer": "ipython3",
   "version": "3.7.4"
  }
 },
 "nbformat": 4,
 "nbformat_minor": 2
}
